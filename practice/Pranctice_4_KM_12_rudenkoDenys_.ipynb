{
  "nbformat": 4,
  "nbformat_minor": 2,
  "metadata": {
    "colab": {
      "name": "Pranctice_3_KM-01_<name>.ipynb",
      "provenance": [],
      "collapsed_sections": []
    },
    "kernelspec": {
      "name": "python3",
      "display_name": "Python 3.9.7 64-bit"
    },
    "language_info": {
      "name": "python",
      "version": "3.9.7"
    },
    "interpreter": {
      "hash": "ac59ebe37160ed0dfa835113d9b8498d9f09ceb179beaac4002f036b9467c963"
    }
  },
  "cells": [
    {
      "cell_type": "markdown",
      "source": [
        "# **Курс \"Програмування на мові Python\"**"
      ],
      "metadata": {
        "id": "1bRxWHr5e8kt"
      }
    },
    {
      "cell_type": "markdown",
      "source": [
        "## **Практичне зайняття №4**\r\n",
        "### Тема: \"Перші програми на Python. Введення та виведення даних. Інструкція if\""
      ],
      "metadata": {
        "id": "buZUwUgFe-kx"
      }
    },
    {
      "cell_type": "markdown",
      "source": [
        "### **Завдання 1 (1,5 бали)**\n",
        "\n"
      ],
      "metadata": {
        "id": "PUkxEn8EfAUe"
      }
    },
    {
      "cell_type": "markdown",
      "source": [
        "**Написати програму введення та виведення даних про одержувача листа (посилки) за стандартами Укрпошти.**\n",
        "\n",
        "1. Усі запити на введення даних повинні супроводжуватись відповідними підказками-поясненнями (бажано англійською мовою).\n",
        "\n",
        "2. Дані мають виводитись так, як показано нижче (з урахуванням кількості рядків та послідовності даних у кожному з них).\n",
        "\n",
        "3. Дані, виділені жирним шрифтом, повинні вводитись із клавіатури. Всього має бути 9 окремих команд введення даних\n",
        "\n",
        "4. Назви змінних повинні бути інформативними та оформленими відповідно до правил іменування змінних\n",
        "\n",
        "5. Додати 2 коментарі, що вказують на блоки введення та виведення даних.\n",
        "\n",
        "***Формат виведення даних:***\n",
        "\n",
        "(1) **Ім'я** (2) **Прізвище**\n",
        "\n",
        "(3) **Номер телефону**\n",
        "\n",
        "Str. (4) **Назва вулиці** (5) **Номер будинку**, ap. (6) **Номер квартири**, (7) **Місто**\n",
        "\n",
        "(8) **Індекс**\n",
        "\n",
        "(9) **Країна**\n",
        "\n",
        "***Приклад виведення:***\n",
        "\n",
        "*Lucas Diallo*\n",
        "\n",
        "*3221234567*\n",
        "\n",
        "*Str. Longue 3, ap. 5, Bruxelles*\n",
        "\n",
        "*1020*\n",
        "\n",
        "*Belgium*"
      ],
      "metadata": {
        "id": "M7jjwxAvfKa2"
      }
    },
    {
      "cell_type": "code",
      "execution_count": null,
      "source": [
        "#this block for input\r\n",
        "name = input(\"Name:\")\r\n",
        "surname = input(\"Surname:\")\r\n",
        "phone = input(\"Phone number :\")\r\n",
        "street_name = input(\"Street:\")\r\n",
        "house_number = input(\"House number:\")\r\n",
        "flat_number = input(\"Flat number:\")\r\n",
        "city = input(\"City:\")\r\n",
        "index = input(\"Address index:\")\r\n",
        "country = input(\"Country:\")\r\n",
        "\r\n",
        "#this block for output\r\n",
        "print(name, surname)\r\n",
        "print(phone)\r\n",
        "print(\"Str.\", street_name, house_number,\",ap.\", flat_number, \",\", city )\r\n",
        "print(index)\r\n",
        "print(country)"
      ],
      "outputs": [],
      "metadata": {
        "id": "hEJG5C3_fJk9"
      }
    },
    {
      "cell_type": "markdown",
      "source": [
        "### **Завдання 2 (1,5 бали)**"
      ],
      "metadata": {
        "id": "WmnpKrmPf689"
      }
    },
    {
      "cell_type": "markdown",
      "source": [
        "Відповідно до чинної системи оцінювання в КПІ, рейтингові бали R студентів переводяться в оцінки за такою таблицею:\n",
        "\n",
        "R | Grade\n",
        "--- | ---\n",
        "95 - 100 | Excellent\n",
        "85 - 95 | Very good\n",
        "75 - 85 | Good\n",
        "65 - 75 | Satisfactory\n",
        "60 - 65 | Marginal\n",
        "0 - 60 | Unsatisfactory\n",
        "\n",
        "Напишіть програму, яка буде зчитувати рейтинговий бал R, введений користувачем, та виводити відповідну оцінку як частину змістовного повідомлення. Наприклад, якщо користувач вводить рейтинговий бал R 78, ваша програма повинна показати оцінку Good. Програма також повинна виводити повідомлення про помилку, якщо користувач введе від'ємне число або число, більше за 100."
      ],
      "metadata": {
        "id": "4n4p_pz7gFKM"
      }
    },
    {
      "cell_type": "code",
      "execution_count": null,
      "source": [
        "r = float(input(\"R: \"))\r\n",
        "\r\n",
        "if 95 <= r <= 100:\r\n",
        "    print(\"Excellent\")\r\n",
        "elif 85 <= r < 95:\r\n",
        "    print(\"Very good\")\r\n",
        "elif 75 <= r < 85:\r\n",
        "    print(\"Good\")\r\n",
        "elif 65 <= r < 75:\r\n",
        "    print(\"Satisfactory\")\r\n",
        "elif 60 <= r < 65:\r\n",
        "    print(\"Marginal\")\r\n",
        "elif 0 <= r < 60:\r\n",
        "    print(\"Unsatisfactory\")\r\n",
        "else:\r\n",
        "    print(\"Write an number from 0-100\")"
      ],
      "outputs": [],
      "metadata": {}
    }
  ]
}