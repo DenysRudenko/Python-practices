{
 "cells": [
  {
   "cell_type": "markdown",
   "metadata": {
    "id": "FMqboNwO4rVs"
   },
   "source": [
    "# **Курс \"Програмування на мові Python\"**"
   ]
  },
  {
   "cell_type": "markdown",
   "metadata": {
    "id": "A2T6MigL5Z06"
   },
   "source": [
    "## **Практичне зайняття №14**\n",
    "\n",
    "### Тема: \"Робота зі спеціальними форматами файлів\""
   ]
  },
  {
   "cell_type": "markdown",
   "metadata": {
    "id": "A34oz70eU463"
   },
   "source": [
    "### **Завдання 1 (3 бали)**\n",
    "\n",
    "Створіть CSV-файли, що будуть містити інформацію із наступного JSON файлу image_info_test-dev2017.json: [COCO Dataset](http://images.cocodataset.org/annotations/image_info_test2017.zip).\n",
    "\n",
    "COCO Dataset - набір фотографій та анотацій до них. Його дуже часто використовують для тренування класифікаторів, призначених для розпізнавання об'єктів та визначення ключових точок на зображеннях.\n",
    "\n",
    "Сконвертуйте цей JSON файл у CSV. На виході у вас повинно вийти 3 файли: `images.csv`, `licenses.csv` та `categories.csv`. (Розділ 'info' - ігноруйте)\n",
    "- Всі вхідні файли повинні бути збереженими (і закоміченими) у папку для 13-ої практичної. \n",
    "- Повинно бути 3 вихідних файли: ``\n",
    "- Вихідні `csv` файли не повинні бути закомічені, для цього добавте у ваш `.gitignore` у будь-яке місце файлу (або можете підшукати відповідне місце згідно до структури файлу) Наступні рядки:\n",
    "```\n",
    "# Practice13 output files\n",
    "*.csv\n",
    "```\n",
    "або навіть краще деталізувати які саме файли ви не хочете комітити:\n",
    "```\n",
    "# Practice13 output files\n",
    "<Practice13 folder name>/*.csv\n",
    "```\n",
    "Якщо у вашому репозиторії до цього не було файлу `.gitignore` - створіть його і закомітьте разом із практичною. Щоб переконатись що все виконано правильно, після додавання виключення у `.gitignore`, виконайте свою програму яка дасть на виході csv файли, і під час коміту ви помітите що Гіт не пропонує вам закомітити ці файли.  \n",
    "Зверніть увагу, що назва файлу повинна бути саме `.gitignore`, а не `.gitingore.txt` чи ще якось. Також цей файл повинен бути розташованим ЛИШЕ у корені репозиторію (лише там його зможе побачити Git).  \n",
    "\n",
    "Опис структури JSON-файлу для набору фотографій COCO можна знайти за посиланням: [Data format](https://cocodataset.org/#format-data)."
   ]
  },
  {
   "cell_type": "code",
   "execution_count": 10,
   "metadata": {},
   "outputs": [],
   "source": [
    "import json\n",
    "import csv\n",
    "\n",
    "with open('annotation\\image_info_test-dev2017.json') as f:\n",
    "    data = json.load(f)\n",
    "    \n",
    "def write_to_csv(blockname, filepath):\n",
    "    with open(filepath, 'w') as csvfile:\n",
    "        csv_data = data[blockname]\n",
    "        fieldnames = list(csv_data[0].keys())\n",
    "        writer = csv.DictWriter(csvfile, fieldnames=fieldnames)\n",
    "        writer.writeheader()\n",
    "        for el in csv_data:\n",
    "            writer.writerow(el)    \n",
    "\n",
    "write_to_csv('images', 'annotation\\images.csv')\n",
    "write_to_csv('licenses', 'annotation\\licenses.csv')\n",
    "write_to_csv('categories', 'annotation\\categories.csv')"
   ]
  },
  {
   "cell_type": "code",
   "execution_count": null,
   "metadata": {},
   "outputs": [],
   "source": []
  }
 ],
 "metadata": {
  "colab": {
   "collapsed_sections": [],
   "name": "Practice_14_KM_01.ipynb",
   "provenance": []
  },
  "kernelspec": {
   "display_name": "Python 3 (ipykernel)",
   "language": "python",
   "name": "python3"
  },
  "language_info": {
   "codemirror_mode": {
    "name": "ipython",
    "version": 3
   },
   "file_extension": ".py",
   "mimetype": "text/x-python",
   "name": "python",
   "nbconvert_exporter": "python",
   "pygments_lexer": "ipython3",
   "version": "3.8.11"
  }
 },
 "nbformat": 4,
 "nbformat_minor": 4
}
