{
 "cells": [
  {
   "cell_type": "markdown",
   "metadata": {
    "id": "FMqboNwO4rVs"
   },
   "source": [
    "# **Курс \"Програмування на мові Python\"**"
   ]
  },
  {
   "cell_type": "markdown",
   "metadata": {
    "id": "A2T6MigL5Z06"
   },
   "source": [
    "## **Практичне зайняття №14**\n",
    "\n",
    "### Тема: \"Ітератори та генератори. Декоратори\"\n",
    "---"
   ]
  },
  {
   "cell_type": "markdown",
   "metadata": {},
   "source": [
    "## Завдання 1 (1.5 бали)\n",
    "\n",
    "Модифікуйте свою практичну № 12.2 таким чином, щоб на екран виводився час виконання основного тіла. \n",
    "\n",
    "- Основне тіло повинне виконуватись у функції\n",
    "\n",
    "- Виведення часу виконання повинне здійснюватись за допомогою декоратора (навішаного на функцію із попереднього пункту)\n",
    "\n",
    "- Робота повинна податись саме як можифікація вже поданого раніше завдання. Тобто у мердж-реквесті, у вкладці \"Changes\" повинен бути змінений файл 12-ої практичної згідно поточного завдання\n",
    "\n",
    "- Для того щоб попередній пункт виконався без проблем, дотримуйтесь наступної інструкції:\n",
    "\n",
    "  0. Виконайте Fetch останніх змін із сервера у своєму локальному репозиторії\n",
    "\n",
    "  1. Створіть нову гілку поточної практичної із верхівки віддаленого мастера (`origin/master`)\n",
    "\n",
    "  2. Переконайтесь що подана раніше вами 12-та практична - присутня у локальному репозиторії. А вона повинна бути присутня якщо ви її раніше подавали і ваше \n",
    "  завдання вже було змердженим у мастер, а ваша гілка яку ви щойно створили - починається із цього мастера\n",
    "\n",
    "  3. Виконайте зміни описані у поточному завданні\n",
    "\n",
    "  4. Виконайте коміт цих змін\n",
    "  \n",
    "---"
   ]
  },
  {
   "cell_type": "code",
   "execution_count": 10,
   "metadata": {},
   "outputs": [
    {
     "name": "stdout",
     "output_type": "stream",
     "text": [
      "Males:\n",
      "John 44\n",
      "Michael 44\n",
      "Robert 17\n",
      "Jacob 14\n",
      "James 13\n",
      "Noah 4\n",
      "Liam 3\n",
      "David 1\n",
      "\n",
      "Females:\n",
      "Mary 76\n",
      "Jennifer 15\n",
      "Emily 12\n",
      "Jessica 9\n",
      "Lisa 8\n",
      "Linda 6\n",
      "Emma 6\n",
      "Sophia 3\n",
      "Ashley 2\n",
      "Isabella 2\n",
      "Olivia 1\n",
      "------------------------------------------------------------\n",
      "Call time of show_popular_names is 1.7615437507629395 s\n"
     ]
    }
   ],
   "source": [
    "import os\n",
    "\n",
    "def timer(func):\n",
    "    import time\n",
    "    def inner(*args, **kwargs):\n",
    "        start_time = time.time()\n",
    "        res = func(*args, **kwargs)\n",
    "        end_time = time.time()\n",
    "        print('-'*60)\n",
    "        print(f'Call time of {func.__name__} is {end_time-start_time} s')\n",
    "        return res\n",
    "    return inner\n",
    "        \n",
    "def popular_names(file_path):\n",
    "    dict_sex = {sex: {'maxnmb': -1, 'name': ''} for sex in 'FM'}\n",
    "    with open(file_path, 'r') as f:\n",
    "        for line in f:\n",
    "            name, sex, nmb = line.split(',')\n",
    "            nmb = int(nmb)\n",
    "            if nmb > dict_sex[sex]['maxnmb']:\n",
    "                dict_sex[sex]['maxnmb'] = nmb\n",
    "                dict_sex[sex]['name'] = name\n",
    "#         print(f\"{file_path[-8:-4]}: {dict_sex['F']['name']} ({dict_sex['F']['maxnmb']}), {dict_sex['M']['name']} ({dict_sex['M']['maxnmb']})\")\n",
    "    return dict_sex['F']['name'], dict_sex['M']['name']\n",
    "\n",
    "@timer\n",
    "def show_popular_names():\n",
    "    dict_stats = {'F': {}, 'M': {}}\n",
    "\n",
    "    for fname in os.listdir('archive'):\n",
    "        if fname[:3] != 'yob':\n",
    "            continue\n",
    "\n",
    "        female_name, male_name = popular_names(f'archive/{fname}')\n",
    "\n",
    "        if female_name in dict_stats['F']:\n",
    "            dict_stats['F'][female_name] += 1\n",
    "        else:\n",
    "            dict_stats['F'][female_name] = 1\n",
    "\n",
    "        if male_name in dict_stats['M']:\n",
    "            dict_stats['M'][male_name] += 1\n",
    "        else:\n",
    "            dict_stats['M'][male_name] = 1\n",
    "\n",
    "    print('Males:')\n",
    "    name_stats = sorted(dict_stats['M'].items(), key = lambda x : -x[1])\n",
    "    for name, nmb in name_stats:\n",
    "        print(name, nmb)\n",
    "\n",
    "    print('\\nFemales:')\n",
    "    name_stats = sorted(dict_stats['F'].items(), key = lambda x : -x[1])\n",
    "    for name, nmb in name_stats:\n",
    "        print(name, nmb)\n",
    "        \n",
    "show_popular_names()"
   ]
  },
  {
   "cell_type": "markdown",
   "metadata": {},
   "source": [
    "## Завдання 2 (1.5 бали)\n",
    "\n",
    "Напишіть генератор чисел Фібоначі. \n",
    "\n",
    "- Генератор повинен приймати на вхід 1 число N - кількість елементів послідовності чисел Фібоначі. \n",
    "\n",
    "- Генератор повинен видавати по одному число N чисел Фібоначі, починаючи від 1\n",
    "\n",
    "- Програма повинна зчитувати N та виводити в 1 рядок N чисел Фібоначі  \n",
    "\n",
    "\n",
    "Приклад вхідних даних:\n",
    "```\n",
    "Enter N: 5\n",
    "```\n",
    "Приклад вихідних даних:\n",
    "```\n",
    "1 1 2 3 5\n",
    "```"
   ]
  },
  {
   "cell_type": "code",
   "execution_count": 16,
   "metadata": {},
   "outputs": [
    {
     "name": "stdin",
     "output_type": "stream",
     "text": [
      "Кількість чисел Фібоначчі 7\n"
     ]
    },
    {
     "name": "stdout",
     "output_type": "stream",
     "text": [
      "1 1 2 3 5 8 13 "
     ]
    }
   ],
   "source": [
    "def fibonacci_gen(n):\n",
    "    a_prev = 1\n",
    "    a_cur = 1\n",
    "    for i in range(n):\n",
    "        yield a_prev\n",
    "        a_next = a_cur + a_prev\n",
    "        a_prev = a_cur\n",
    "        a_cur = a_next\n",
    "        \n",
    "n = int(input('Кількість чисел Фібоначчі'))\n",
    "for a in fibonacci_gen(n):\n",
    "    print(a, end = ' ')"
   ]
  },
  {
   "cell_type": "markdown",
   "metadata": {},
   "source": [
    "---\n",
    "\n",
    "## Завдання 3 (4 бали)\n",
    "\n",
    "Напишіть __рекурсивний генератор__ обходу двійкового дерева. \n",
    "\n",
    "- Двійкове дерево задається списком із трьох значень, де 0-ий елемент містить поточне значення вузла, 1-ий елемент - ліве піддерево, 2-ий елемент - праве піддерево\n",
    "\n",
    "- Обхід повинен здійснюватись справа на ліво\n",
    "\n",
    "- Вхідне дерево описується програмно\n",
    "\n",
    "- Програма повинна вивести результат виконання генератора на екран\n",
    "\n",
    "Приклад вихідних даних:\n",
    "```\n",
    "4 9 5 2 11 6 5 7 2\n",
    "```\n",
    "Примітка: візуалізація дерева із прикладу можна побачити у теорії до практичної #11"
   ]
  },
  {
   "cell_type": "code",
   "execution_count": 20,
   "metadata": {},
   "outputs": [],
   "source": [
    "tree = [2, [7, [2, [], []], [6, [5, [], []], [11, [], []]]], [5, [], [9, [4, [], []], []]]]\n",
    "#            2\n",
    "#           / \\\n",
    "#      7         5 \n",
    "#     / \\         \\\n",
    "#    2   6        9\n",
    "#       / \\      /\n",
    "#      5   11   4"
   ]
  },
  {
   "cell_type": "code",
   "execution_count": 55,
   "metadata": {},
   "outputs": [],
   "source": [
    "def tree_right_reader_gen(tree):\n",
    "    root = tree[0]\n",
    "    left = tree[1]\n",
    "    right = tree[2]\n",
    "    # read right subtree\n",
    "    if len(right) > 0:\n",
    "        yield from tree_right_reader_gen(right)\n",
    "    # read root\n",
    "    yield root\n",
    "    # read left subtree\n",
    "    if len(left) > 0:\n",
    "        yield from tree_right_reader_gen(left)\n",
    "    "
   ]
  },
  {
   "cell_type": "code",
   "execution_count": 56,
   "metadata": {},
   "outputs": [
    {
     "name": "stdout",
     "output_type": "stream",
     "text": [
      "9 4 5 2 11 6 5 7 2 "
     ]
    }
   ],
   "source": [
    "for v in tree_right_reader_gen(tree):\n",
    "    print(v, end = ' ')"
   ]
  },
  {
   "cell_type": "code",
   "execution_count": null,
   "metadata": {},
   "outputs": [],
   "source": []
  }
 ],
 "metadata": {
  "colab": {
   "collapsed_sections": [],
   "name": "Practice_14_KM_01.ipynb",
   "provenance": []
  },
  "kernelspec": {
   "display_name": "Python 3 (ipykernel)",
   "language": "python",
   "name": "python3"
  },
  "language_info": {
   "codemirror_mode": {
    "name": "ipython",
    "version": 3
   },
   "file_extension": ".py",
   "mimetype": "text/x-python",
   "name": "python",
   "nbconvert_exporter": "python",
   "pygments_lexer": "ipython3",
   "version": "3.8.11"
  }
 },
 "nbformat": 4,
 "nbformat_minor": 4
}
