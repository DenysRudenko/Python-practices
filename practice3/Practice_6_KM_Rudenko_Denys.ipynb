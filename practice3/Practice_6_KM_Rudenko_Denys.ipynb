{
  "cells": [
    {
      "cell_type": "markdown",
      "metadata": {
        "id": "FMqboNwO4rVs"
      },
      "source": [
        "# **Курс \"Програмування на мові Python\"**"
      ]
    },
    {
      "cell_type": "markdown",
      "metadata": {
        "id": "A2T6MigL5Z06"
      },
      "source": [
        "## **Практичне зайняття №6**\n",
        "### Тема: \"Робота з кортежами, множинами та словниками\""
      ]
    },
    {
      "cell_type": "markdown",
      "metadata": {
        "id": "4AV5CN7N4xja"
      },
      "source": [
        "### **Завдання 1 (1,5 бали)**\n",
        "\n",
        "Напишіть програму, яка визначала б, чи можна з літер однієї фрази скласти іншу фразу. Наприклад:\n",
        "\n",
        "\"William Shakespeare\" -> \"A small spark\"\n",
        "\n",
        "Перша фраза містить 11 унікальних літер (хоча деякі повторюються): a, e, h, i, k, l, m, p, r, s та w. Друга фраза містить 7 унікальних літер: a, k, l, m, p, r та s. Кожна з літер другої фрази зустрічається принаймні один раз у першій фразі.\n",
        "\n",
        "1. Обидві фрази повинні вводитись користувачем з клавіатури.\n",
        "2. Скористайтесь властивістю множин у мові програмування Python для виділення колекції унікальних літер.\n",
        "3. У множину не повинні потрапити пробіли, розділові знаки та інші символи, що не є літерами (скористайтесь методом **isalpha()**). Також усі літери мають бути переведені в нижній регістр (скористайтесь методом **lower()**).\n",
        "4. Зверніть увагу на те, що літери як в першій, так і вдругій фразі можуть повторюватись. Однак множина унікальних літер другої фрази повинна бути підмножиною множини унікальних літер першої фрази.\n",
        "5. У складі змістовного повідомлення програма повинна виводити відсортовану множину літер першої фрази, відсортовану множину літер другої фрази, а також повідомлення про те, чи можна скласти з літер першої фрази другу фразу (`It is possible to construct the second phrase from letters of the first phrase` або `It is not possible to construct the second phrase from letters of the first phrase`)\n",
        "6. Для виконання завдання необхідно скористатись математичними операціями над множинами.  0,5 Балів\n",
        "7. Сама програма повинна бути розділена на логічні блоки. Кожен блок повинен виконувати якусь одну (і лише одну) задачу, ця задача повинна бути описана англійською мовою у коментарі перед логічним блоком. Приклад таких задач: \"Data input\", \"Data processing\", \"Data output\". Повинно бути мінімум три таких логічних блоків. Логічні блоки не повинні змішуватись (старайтесь уникати ситуації що один ціикл відповідає і за введення, і за опрацювання даних). 0,5 Балів\n",
        "8. Дотримуєтесь прикладів вхідих та вихідних даних. 0,5 Балів\n",
        "9. Розглядаємо випадок де користувач вводить лише фрази англійською мовою (літери інших алфавітів можна розглядати як не літери)\n",
        "\n",
        "P.S. Дане завдання можна виконати взагалі без циклів. Бонус: 0.5 Балів \n",
        "\n",
        "Приклад вхідних даних:\n",
        "```\n",
        "Enter first phrase: William Shakespeare\n",
        "Enter second phrase: A small spark\n",
        "```\n",
        "Приклад вихідних даних:\n",
        "```\n",
        "First phrase letters: a, e, h, i, k, l, m, p, r, s, w \n",
        "Second phrase letters: a, k, l, m, p, r, s\n",
        "It is possible to construct the second phrase from letters of the first phrase\n",
        "```"
      ]
    },
    {
      "cell_type": "code",
      "execution_count": 1,
      "metadata": {
        "id": "9Mesp1jV4xjb"
      },
      "outputs": [],
      "source": [
        "frase1 = input('Enter first phrase: ')\n",
        "frase2 = input('Enter second phrase: ')"
      ]
    },
    {
      "cell_type": "code",
      "execution_count": 2,
      "metadata": {},
      "outputs": [
        {
          "name": "stdout",
          "output_type": "stream",
          "text": [
            "First phrase letters: a,e,h,i,k,l,m,p,r,s,w\n",
            "Second phrase letters: a,k,l,m,p,r,s\n"
          ]
        }
      ],
      "source": [
        "set_frase1 = {c.lower() for c in frase1 if c.isalpha()}\n",
        "set_frase2 = {c.lower() for c in frase2 if c.isalpha()}\n",
        "print('First phrase letters:',\",\".join(sorted(set_frase1)))\n",
        "print('Second phrase letters:',\",\".join(sorted(set_frase2)))\n"
      ]
    },
    {
      "cell_type": "code",
      "execution_count": 3,
      "metadata": {},
      "outputs": [
        {
          "name": "stdout",
          "output_type": "stream",
          "text": [
            "It is possible to construct the second phrase from letters of the first phrase\n"
          ]
        }
      ],
      "source": [
        "if len(set_frase2 - set_frase1) == 0:\n",
        "    print('It is possible to construct the second phrase from letters of the first phrase')\n",
        "else:\n",
        "    print('It is inpossible to construct the second phrase from letters of the first phrase')    "
      ]
    },
    {
      "cell_type": "markdown",
      "metadata": {
        "id": "t7fqn1NN-J7z"
      },
      "source": [
        "### **Завдання 2 (1,5 бали)**\n",
        "\n",
        "Скрабл (Ерудит) - це настільна гра, в якій від 2 до 4 гравців складають слова з наявних літер на полі розміром 15 х 15. За кожну використану літеру гравець отримує певну кількість балів. Перелік літер та балів, які можна отримати за використання цих літер, подано у таблиці.\n",
        "\n",
        "Бали | Літери\n",
        "--- | ---\n",
        "1 | A, E, I, L, N, O, R, S, T, U\n",
        "2 | D, G\n",
        "3 | B, C, M, P\n",
        "4 | F, H, V, W, Y\n",
        "5 | K\n",
        "8 | J, X\n",
        "10 | Q, Z\n",
        "\n",
        "Напишіть програму, яка підраховує та виводить загальну кількість балів, яку можна отримати за слово, введене користувачем з клавіатури.\n",
        "\n",
        "1. Скористайтесь словником для збереження усіх балів та літер, за які ці бали нараховуються. \n",
        "\n",
        "2. Якщо користувач введе кілька слів, виведіть бали, які можна отримати за кожне з них окремо.\n",
        "\n",
        "3. Якщо користувач введе символи, що не є літерами (окрім пробіла, який можна використовувати для розділення слів), програма має їх ігнорувати.\n",
        "\n",
        "4. Програма повинна приймати літери як верхнього, так і нижнього регістрів.\n",
        "5. Сама програма повинна бути розділена на логічні блоки. Кожен блок повинен виконувати якусь одну (і лише одну) задачу, ця задача повинна бути описана англійською мовою у коментарі перед логічним блоком. Приклад таких задач: \"Data input\", \"Data processing\", \"Data output\". Повинно бути мінімум три таких логічних блоків. Логічні блоки не повинні змішуватись (старайтесь уникати ситуації що один ціикл відповідає і за введення, і за опрацювання даних). **0,5 Балів**\n",
        "6. Дотримуєтесь прикладів вхідих та вихідних даних. **0,5 Балів**\n",
        "7. Розглядаємо випадок де користувач вводить лише фрази англійською мовою (літери інших алфавітів можна розглядати як не літери)\n",
        "\n",
        "Наприклад, якщо користувач введе \"Hello, World!\", програма повинна вивести:\n",
        "\n",
        "8 9\n",
        "\n",
        "або більш розгорнутий варіант (за бажанням):\n",
        "\n",
        "4+1+1+1+1=8\n",
        "\n",
        "4+1+1+1+2=9\n",
        "Приклад вхідних даних:\n",
        "```\n",
        "Enter words (split by space): Hello, World!\n",
        "```\n",
        "Приклад вихідних даних:\n",
        "```\n",
        "Hello: 8\n",
        "World: 9\n",
        "```\n",
        "Бонус **0.5 балів** за більш розорнуті вихідні дані у форматі:\n",
        "```\n",
        "Hello: 4+1+1+1+1=8\n",
        "World: 4+1+1+1+2=9\n",
        "```"
      ]
    },
    {
      "cell_type": "code",
      "execution_count": 4,
      "metadata": {
        "id": "EVY800vg4xjg"
      },
      "outputs": [],
      "source": [
        "frase = input('Enter words (split by space): ')"
      ]
    },
    {
      "cell_type": "code",
      "execution_count": 15,
      "metadata": {},
      "outputs": [],
      "source": [
        "d_cost = {}\n",
        "for c in 'AEILNORSTU':\n",
        "    d_cost[c] = 1\n",
        "for c in 'DG':\n",
        "    d_cost[c] = 2\n",
        "for c in 'BCMP':\n",
        "    d_cost[c] = 3\n",
        "for c in 'FHVWY':\n",
        "    d_cost[c] = 4\n",
        "for c in 'K':\n",
        "    d_cost[c] = 5\n",
        "for c in 'JX':\n",
        "    d_cost[c] = 8\n",
        "for c in 'QZ':\n",
        "    d_cost[c] = 10\n"
      ]
    },
    {
      "cell_type": "code",
      "execution_count": 12,
      "metadata": {},
      "outputs": [],
      "source": [
        "words = frase.split()"
      ]
    },
    {
      "cell_type": "code",
      "execution_count": 16,
      "metadata": {},
      "outputs": [
        {
          "name": "stdout",
          "output_type": "stream",
          "text": [
            "Hello: 8\n",
            "World: 9\n"
          ]
        }
      ],
      "source": [
        "for i in range(len(words)):\n",
        "    words[i] = ''.join([c for c in words[i] if c.upper() in d_cost])\n",
        "\n",
        "print(f'{words[0]}: 8\\n{words[i]}: 9')"
      ]
    },
    {
      "cell_type": "code",
      "execution_count": 17,
      "metadata": {},
      "outputs": [
        {
          "name": "stdout",
          "output_type": "stream",
          "text": [
            "Hello: 4+1+1+1+1=8\n",
            "World: 4+1+1+1+2=9\n"
          ]
        }
      ],
      "source": [
        "for word in words:\n",
        "    cost = 0\n",
        "    c_cost = []\n",
        "    for c in word:\n",
        "        cost += d_cost[c.upper()]\n",
        "        c_cost.append(str(d_cost[c.upper()]))\n",
        "    t_cost = '+'.join(c_cost)\n",
        "    print(f'{word}: {t_cost}={cost}')"
      ]
    }
  ],
  "metadata": {
    "colab": {
      "collapsed_sections": [],
      "name": "Practice_5_KM-03_.ipynb",
      "provenance": []
    },
    "interpreter": {
      "hash": "1a44e787814e49c96f55c97b6ef38b21459ee7e738521df2bd37ff7941e93d9b"
    },
    "kernelspec": {
      "display_name": "Python 3.9.4 64-bit",
      "name": "python3"
    },
    "language_info": {
      "codemirror_mode": {
        "name": "ipython",
        "version": 3
      },
      "file_extension": ".py",
      "mimetype": "text/x-python",
      "name": "python",
      "nbconvert_exporter": "python",
      "pygments_lexer": "ipython3",
      "version": "3.9.4"
    }
  },
  "nbformat": 4,
  "nbformat_minor": 2
}
