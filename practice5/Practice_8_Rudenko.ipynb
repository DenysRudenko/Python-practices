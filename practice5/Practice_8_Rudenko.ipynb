{
  "cells": [
    {
      "cell_type": "markdown",
      "metadata": {
        "id": "FMqboNwO4rVs"
      },
      "source": [
        "# **Курс \"Програмування на мові Python\"**"
      ]
    },
    {
      "cell_type": "markdown",
      "metadata": {
        "id": "A2T6MigL5Z06"
      },
      "source": [
        "## **Практичне зайняття №8**\n",
        "\n",
        "### Тема: \"Перевірка даних. Робота з виключеннями. Регулярні вирази\""
      ]
    },
    {
      "cell_type": "markdown",
      "metadata": {
        "id": "cfCdgK2zXm7e"
      },
      "source": [
        "### **Завдання 1 (2 бали)**\n",
        "\n",
        "Нехай дано наступний текст:\n",
        "\n",
        "```\n",
        "| Post code | Cost, thouthends USD |  Country  |    City    |       Street       | Build. | App. |            Date            |\n",
        "|-----------+----------------------+-----------+------------+--------------------+--------+------+----------------------------|\n",
        "| 33022     |                0.543 | USA       | New York   | 53rd street        |     44 |  345 | 2020-01-30T11:45:33.654357 |\n",
        "| 33145     |             9563.214 | UK        | London     | 45 yard av.        |      3 |  210 | 1985-04-02T22:45:45.045385 |\n",
        "| 33658     |               85.543 | Australia | Sidney     | Cristmess eve str. |    253 |    3 | 2010-10-10T10:00:00.000000 |\n",
        "| 33854     |                0.010 | Ukraine   | Lutsk      | Soborna str.       |     10 | 5342 | 2008-02-28T23:33:33.000000 |\n",
        "| 33698     |          1000000.000 | USA       | Washington | Columbia str.      |     25 |  222 | 2021-09-29T07:34:01.000143 |\n",
        "``` \n",
        "\n",
        "Написати програму, яка із даного тексту дістане всі корисні дані. Залежно від того як ви реалізуєте шаблон для регулярного виразу - вам може знадобитись у нагоді функція яка обрізає пробіли по краях рядка: `\"   Hello! \".strip()`  \n",
        "А для того щоб сконвертувати рядок із датою у об'єкт `datetime`, беручи до уваги що цей рядок у ISO форматі, можна використати наступну функцію: `datetime.fromisoformat(\"2021-09-29T07:34:01.000143\")`, попередньо імпортувавши відповідний тип із модулю datetime: `from datetime import datetime`\n",
        "\n",
        "У наведеному коді нижче Вам необхідно наповнити змінну `data` корисними даними. Вставте свій код замість рядка `\"# Your code here\"`. Запустіть блок коду щоб пересвідчитись що жоден assert не викидає помилку."
      ]
    },
    {
      "cell_type": "code",
      "execution_count": 1,
      "metadata": {
        "id": "ifNX2M7LXm7f"
      },
      "outputs": [
        {
          "name": "stdout",
          "output_type": "stream",
          "text": [
            "All tests passed!\n"
          ]
        }
      ],
      "source": [
        "from datetime import datetime\n",
        "\n",
        "text = \"\"\"\n",
        "| Post code | Cost, thouthends USD |  Country  |    City    |       Street       | Build. | App. |            Date            |\n",
        "|-----------+----------------------+-----------+------------+--------------------+--------+------+----------------------------|\n",
        "| 33022     |                0.543 | USA       | New York   | 53rd street        |     44 |  345 | 2020-01-30T11:45:33.654357 |\n",
        "| 33145     |             9563.214 | UK        | London     | 45 yard av.        |      3 |  210 | 1985-04-02T22:45:45.045385 |\n",
        "| 33658     |               85.543 | Australia | Sidney     | Cristmess eve str. |    253 |    3 | 2010-10-10T10:00:00.000000 |\n",
        "| 33854     |                0.010 | Ukraine   | Lutsk      | Soborna str.       |     10 | 5342 | 2008-02-28T23:33:33.000000 |\n",
        "| 33698     |          1000000.000 | USA       | Washington | Columbia str.      |     25 |  222 | 2021-09-29T07:34:01.000143 |\n",
        "\"\"\"\n",
        "\n",
        "# will contain parsed data\n",
        "data = []\n",
        "import re\n",
        "search_lines = re.findall(r'\\|.*\\|\\n', text+'\\n')\n",
        "lines = search_lines[2:]\n",
        "for line in lines:\n",
        "    columns = re.findall(r'\\|[^\\|]*', line[:-2])\n",
        "    values = []\n",
        "    for i in range(len(columns)):\n",
        "        value = columns[i][1:].strip()\n",
        "        if i in [0, 5, 6]:\n",
        "            values.append(int(value))\n",
        "        elif i == 1:\n",
        "            values.append(float(value))\n",
        "        elif i == 7:\n",
        "            values.append(datetime.fromisoformat(value))\n",
        "        else:\n",
        "            values.append(value)\n",
        "    data.append(tuple(values))\n",
        "\n",
        "# expected data\n",
        "reference_data = [\n",
        "    (33022, 0.543, 'USA', 'New York', '53rd street', 44, 345, datetime(2020, 1, 30, 11, 45, 33, 654357)),\n",
        "    (33145, 9563.214, 'UK', 'London', '45 yard av.', 3, 210, datetime(1985, 4, 2, 22, 45, 45, 45385)),\n",
        "    (33658, 85.543, 'Australia', 'Sidney', 'Cristmess eve str.', 253, 3, datetime(2010, 10, 10, 10)),\n",
        "    (33854, 0.01, 'Ukraine', 'Lutsk', 'Soborna str.', 10, 5342, datetime(2008, 2, 28, 23, 33, 33)),\n",
        "    (33698, 1000000.0, 'USA', 'Washington', 'Columbia str.', 25, 222, datetime(2021, 9, 29, 7, 34, 1, 143)),\n",
        "]\n",
        "\n",
        "# testing\n",
        "assert len(data) == len(reference_data), \"Length of parsed data doesn't match expected\"\n",
        "rows = len(data)\n",
        "for i in range(rows):\n",
        "    assert len(data[i]) == len(reference_data[i]), f\"Number of columns in row #{i} is not as expected\"\n",
        "    columns = len(data[i])\n",
        "    for j in range(columns):\n",
        "        assert data[i][j] == reference_data[i][j], f\"Row #{i}, column #{j} has value '{data[i][j]}', which is different from expected '{reference_data[i][j]}'\"\n",
        "print(\"All tests passed!\")"
      ]
    },
    {
      "cell_type": "markdown",
      "metadata": {
        "id": "M1Sg0vXJXm7n"
      },
      "source": [
        "### **Завдання 2 (2 бали)**\n",
        "\n",
        "Написати програму підрахунку коренів квадратного рівняння без попередніх перевірок. Код для вирішення квадратного рівняння опишіть всередині функції `quadratic_equation`, сігнатура якої вже подана нижче. \n",
        "\n",
        "1. В середині функції заборонено здійснювати будь-яке виведення повідомлень користувачу або закривати програму - функція повинна або видати відповідну кількість рішень (кортеж із одного або 2 дійсних чисел), або повинна згенерувати помилку\n",
        "1. Користувач має вводити коефіцієнти a, b та c з клавіатури.\n",
        "\n",
        "2. Програма має обробляти помилки ділення на 0, кореня від'ємного числа та інші, а також виводити відповідні повідомлення у разі виникнення таких помилок.\n",
        "\n",
        "3. Якщо рівняння не має коренів, функція має генерувати помилку за допомогою ключового слова raise, а основний код програми повинен цю помилку обробити та вивести відповідне повідомлення користувачу.\n",
        "\n",
        "4. Правильно написана програма при виникненні різних помилок має виводити текст помилки, а також різні повідомлення про те, в чому суть цих помилок. Ваша програма повинна змістовно реагувати на будь-яке введення користувача.\n",
        "\n",
        "Note: по суті виконання функції можна зупити або ключовим словом `return (1, 2)`, при цьому повернувши певне значення (у даному прикладі - кортеж, який містить числа 1 та 2), або згенерувавши помилку. В обох випадках виконання функції далі відбуватись не буде."
      ]
    },
    {
      "cell_type": "code",
      "execution_count": 2,
      "metadata": {
        "id": "co7fcAuvXm7o"
      },
      "outputs": [],
      "source": [
        "def quadratic_equation(a, b, c):\n",
        "    if a == 0:\n",
        "        raise UserWarning('a = 0')\n",
        "    discr = b**2 - 4 * a * c\n",
        "    if discr < 0:\n",
        "        raise UserWarning('discr < 0')\n",
        "    elif discr == 0:\n",
        "        return (- b / 2 / a)\n",
        "    else:\n",
        "        return ((- b - discr ** 0.5) / 2 / a, (- b + discr ** 0.5) / 2 / a)"
      ]
    },
    {
      "cell_type": "code",
      "execution_count": 3,
      "metadata": {},
      "outputs": [
        {
          "name": "stdout",
          "output_type": "stream",
          "text": [
            "Дискримінант < 0 - розв'язків немає\n"
          ]
        }
      ],
      "source": [
        "input_mode = True\n",
        "while input_mode:\n",
        "    try:\n",
        "        a, b, c = [float(c) for c in input('Введіть коефіцієнти квадратного рівняння через пробіл').split()]\n",
        "        input_mode = False\n",
        "    except ValueError as ex:\n",
        "        if 'not enough values to unpack' in str(ex):\n",
        "            print('Потрібно ввести три числа')\n",
        "        else:\n",
        "            print('Вводьте лише числа')\n",
        "        \n",
        "try:\n",
        "    roots = quadratic_equation(a, b, c)\n",
        "except UserWarning as ex:\n",
        "    if str(ex) == 'a = 0':\n",
        "        print('Рівняння не квадратне, бо a = 0')\n",
        "    elif str(ex) == 'discr < 0':\n",
        "        print('Дискримінант < 0 - розв\\'язків немає')\n",
        "    else:\n",
        "        print(ex)\n",
        "except Exception as ex:\n",
        "    print(ex)\n",
        "else:\n",
        "    if isinstance(roots, (int, float)):\n",
        "        print(f'Рівняння має один розв\\'язок {roots}')\n",
        "    else:\n",
        "        print(f'Рівняння має два розв\\'язоки {roots[0]} і {roots[1]}')    "
      ]
    }
  ],
  "metadata": {
    "colab": {
      "collapsed_sections": [],
      "name": "Practice_7_KM-01_.ipynb",
      "provenance": []
    },
    "interpreter": {
      "hash": "ff5f9e688545cdbd911c21cdd7e3479cd425f450b72124eb76e51b9dcb9d057f"
    },
    "kernelspec": {
      "display_name": "Python 3.10.0 64-bit",
      "name": "python3"
    },
    "language_info": {
      "codemirror_mode": {
        "name": "ipython",
        "version": 3
      },
      "file_extension": ".py",
      "mimetype": "text/x-python",
      "name": "python",
      "nbconvert_exporter": "python",
      "pygments_lexer": "ipython3",
      "version": "3.10.0"
    }
  },
  "nbformat": 4,
  "nbformat_minor": 0
}
