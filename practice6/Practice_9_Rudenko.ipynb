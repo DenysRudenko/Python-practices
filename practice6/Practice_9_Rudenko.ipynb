{
  "cells": [
    {
      "cell_type": "markdown",
      "metadata": {
        "id": "FMqboNwO4rVs"
      },
      "source": [
        "# **Курс \"Програмування на мові Python\"**"
      ]
    },
    {
      "cell_type": "markdown",
      "metadata": {
        "id": "A2T6MigL5Z06"
      },
      "source": [
        "## **Практичне зайняття №9**\n",
        "\n",
        "### Тема: \"Робота з функціями. Локальні та глобальні змінні\""
      ]
    },
    {
      "cell_type": "markdown",
      "metadata": {
        "id": "cfCdgK2zXm7e"
      },
      "source": [
        "### **Завдання 1 (3 бали)**\n",
        "\n",
        "**Підрахувати визначник матриці, використовуючи правило перестановок.**\n",
        "\n",
        "Функція random_matrix() призначена для створення квадратної матриці випадкових чисел. Її змінювати непотрібно.\n",
        "\n",
        "Приклад використання методу permutations() для створення списку перестановок також подається у комірці з кодом.\n",
        "\n",
        "1) Створити 4 функції: функцію створення списку перестановок, функцію підрахунку добутків, функцію визначення знаку добутку та функцію підрахунку загальної суми.\n",
        "\n",
        "2) Кожна функція має супроводжуватись рядком документації, що буде коротко описувати її призначення.\n",
        "\n",
        "3) Розмірність квадратної матриці має вводитись користувачем з клавіатури. Підрахунки виконувати лише в тому разі, якщо користувач введе ціле додатне число.\n",
        "\n",
        "4) Загальний результат повинен підраховуватись за допомогою композиції функцій.\n",
        "\n",
        "За бажанням можна перевірити правильність роботи програми за допомогою функції np.linalg.det(a).\n",
        " \n",
        "Якщо модуль `numpy` не був у вас до цього встановлений - буде виникати помилка `ModuleNotFoundError: No module named 'numpy'`. Щоб встановити модуль - виконайте у середовищі терміналу (не в середовищі Python) команду `pip install numpy`. В даній команді викликається програма pip, вона повинна була бути встановленою разом із Python (можна зайти у папку куди встановлений Python та знайти там як сам python.exe так і pip.exe)\n",
        "\n",
        "Детальніше про сам метод перестановок можна почитати за [цим посиланням](http://cyb.univ.kiev.ua/library/training-materials/algebra-and-analytical-geometry/methods-of-calculating-the-determinants-of-n-th-order/Determinant.pdf), стор. 3-5"
      ]
    },
    {
      "cell_type": "code",
      "execution_count": null,
      "metadata": {
        "id": "ifNX2M7LXm7f"
      },
      "outputs": [],
      "source": [
        "import numpy as np\n",
        "import itertools\n",
        "\n",
        "def random_matrix(dim):\n",
        "    \"\"\"\n",
        "    The function generates dim x dim array of integers\n",
        "    between 0 and 10.\n",
        "    \"\"\"\n",
        "    matrix = np.random.randint(10, size = (dim, dim))\n",
        "    return matrix\n",
        "\n",
        "#Example of using permutations() method\n",
        "t = list(itertools.permutations(range(4), 3))"
      ]
    },
    {
      "cell_type": "code",
      "execution_count": null,
      "metadata": {},
      "outputs": [],
      "source": [
        "def permutation_list(dim):\n",
        "    '''функція створення списку перестановок'''\n",
        "    return list(itertools.permutations(range(dim), dim))\n",
        "\n",
        "\n",
        "def ordered_pairs(dim):\n",
        "    '''функція створення списку впорядкованих пар індексів'''\n",
        "    pairs = []\n",
        "    for i in range(dim-1):     # (i,j), 0 <= i < j <= dim-1\n",
        "        for j in range(i+1, dim):\n",
        "            pairs.append((i, j))\n",
        "    return pairs\n",
        "\n",
        "\n",
        "def product_sign(perm):\n",
        "    '''функція визначення знаку добутку'''\n",
        "    nmb = 0\n",
        "    for i, j in ordered_pairs(len(perm)):\n",
        "        if perm[i] > perm[j]:\n",
        "            nmb += 1\n",
        "    return (-1)**nmb\n",
        "\n",
        "\n",
        "def det_product(matrix, perm):\n",
        "    '''функція підрахунку добутків'''\n",
        "    prod = product_sign(perm)\n",
        "    for i in range(len(perm)):\n",
        "        prod *= matrix[perm[i], i]\n",
        "    return prod\n",
        "\n",
        "\n",
        "def determinant(matrix):\n",
        "    '''функція обчислення детермінанта'''\n",
        "    det = 0\n",
        "    for perm in permutation_list(len(matrix)):\n",
        "        det += det_product(matrix, perm)\n",
        "    return det"
      ]
    },
    {
      "cell_type": "code",
      "execution_count": null,
      "metadata": {},
      "outputs": [],
      "source": [
        "dim = int(input('Розмірність матриці:'))\n",
        "'''Блок для перевірки на мінус вводу'''\n",
        "try:\n",
        "    if dim < 1:\n",
        "        raise ValueError\n",
        "    determinant(random_matrix(dim))\n",
        "except ValueError:\n",
        "        print(\"The entered nuumber is not a positive!\")\n",
        "\n",
        "print(determinant(random_matrix(dim)))"
      ]
    }
  ],
  "metadata": {
    "colab": {
      "collapsed_sections": [],
      "name": "Practice_7_KM-01_.ipynb",
      "provenance": []
    },
    "interpreter": {
      "hash": "916dbcbb3f70747c44a77c7bcd40155683ae19c65e1c03b4aa3499c5328201f1"
    },
    "kernelspec": {
      "display_name": "Python 3.8.10 64-bit",
      "name": "python3"
    },
    "language_info": {
      "codemirror_mode": {
        "name": "ipython",
        "version": 3
      },
      "file_extension": ".py",
      "mimetype": "text/x-python",
      "name": "python",
      "nbconvert_exporter": "python",
      "pygments_lexer": "ipython3",
      "version": "3.8.10"
    }
  },
  "nbformat": 4,
  "nbformat_minor": 0
}
