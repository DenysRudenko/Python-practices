{
  "cells": [
    {
      "cell_type": "markdown",
      "metadata": {
        "id": "FMqboNwO4rVs"
      },
      "source": [
        "# **Курс \"Програмування на мові Python\"**"
      ]
    },
    {
      "cell_type": "markdown",
      "metadata": {
        "id": "A2T6MigL5Z06"
      },
      "source": [
        "## **Практичне зайняття №10**\n",
        "\n",
        "### Тема: \"Лямбда-функції. Функції вищих порядків\""
      ]
    },
    {
      "cell_type": "markdown",
      "metadata": {
        "id": "cfCdgK2zXm7e"
      },
      "source": [
        "### **Завдання 1 (3 бали)**\n",
        "\n",
        "Нехай дано словник `data`. \n",
        "1. Профільтруйте цей словник із допомогою функції `filter` таким чином, щоб у ньому залишились лише такі ключ-значення, де ключ і значення - число (ціле або дійсне). \n",
        "2. Із допомогою функції `map` сконвертуйте цей словник у список таким чином, щоб у список попали сума ключа і значення із словника.\n",
        "3. Із допомогою функції `reduce` підрахуйте кількість додатніх чисел\n",
        "\n",
        "Додаткові вимоги:\n",
        "- В результаті виконаного першого пункту має бути саме словник, а не ітератор\n",
        "- В результаті виконаного другого пункту має бути саме список\n",
        "- Як перший аргумент функцій map, filter та reduce повинна бути використана як мінімум одна лямбда функція, та одна - звичайна\n",
        "\n",
        "Майте на увазі - для перевірки завдання можуть бути використані інші вхідні дані"
      ]
    },
    {
      "cell_type": "code",
      "execution_count": 2,
      "metadata": {
        "id": "ifNX2M7LXm7f"
      },
      "outputs": [],
      "source": [
        "data = {\n",
        "    -1: 154,\n",
        "    5: -4152,\n",
        "    0: \"Hello!\",\n",
        "    54: 0.543243,\n",
        "    2: \"It's me!\",\n",
        "    \"Why not?\": 34\n",
        "}"
      ]
    },
    {
      "cell_type": "code",
      "execution_count": 3,
      "metadata": {},
      "outputs": [],
      "source": [
        "def is_number_pair(x):\n",
        "    key = x[0]\n",
        "    value = x[1]\n",
        "    key_isnumber = type(key) in [int, float]\n",
        "    value_isnumber = type(value) in [int, float]\n",
        "    return key_isnumber and value_isnumber\n",
        "\n",
        "filtered_dict = dict(filter(lambda x: is_number_pair(x), data.items()))\n",
        "# print(filtered_dict)"
      ]
    },
    {
      "cell_type": "code",
      "execution_count": 4,
      "metadata": {},
      "outputs": [],
      "source": [
        "second_list  = list(map(lambda x: x[0] + x[1], filtered_dict.items()))\n",
        "# print(second_list)"
      ]
    },
    {
      "cell_type": "code",
      "execution_count": 5,
      "metadata": {},
      "outputs": [
        {
          "name": "stdout",
          "output_type": "stream",
          "text": [
            "2\n"
          ]
        }
      ],
      "source": [
        "from functools import reduce\n",
        "\n",
        "positive_qnt = reduce(lambda total, x: total + (x > 0), second_list, 0)\n",
        "print(positive_qnt)"
      ]
    }
  ],
  "metadata": {
    "colab": {
      "collapsed_sections": [],
      "name": "Practice_7_KM-01_.ipynb",
      "provenance": []
    },
    "kernelspec": {
      "display_name": "Python 3",
      "name": "python3"
    },
    "language_info": {
      "codemirror_mode": {
        "name": "ipython",
        "version": 3
      },
      "file_extension": ".py",
      "mimetype": "text/x-python",
      "name": "python",
      "nbconvert_exporter": "python",
      "pygments_lexer": "ipython3",
      "version": "3.10.0"
    }
  },
  "nbformat": 4,
  "nbformat_minor": 0
}
