{
 "cells": [
  {
   "cell_type": "markdown",
   "metadata": {
    "id": "FMqboNwO4rVs"
   },
   "source": [
    "# **Курс \"Програмування на мові Python\"**"
   ]
  },
  {
   "cell_type": "markdown",
   "metadata": {
    "id": "A2T6MigL5Z06"
   },
   "source": [
    "## **Практичне зайняття №12**\n",
    "\n",
    "### Тема: \"Робота з файлами\""
   ]
  },
  {
   "cell_type": "markdown",
   "metadata": {
    "id": "cfCdgK2zXm7e"
   },
   "source": [
    "### **Завдання 1 (1,5 бали)**\n",
    "\n",
    "У 1939 році друком вийшов роман американського письменика Ернеста Вінсента Райта \"Ґетсбі\". Особливу увагу публіки він здобув через те, що письменник жодного разу не використав у романі літеру \"e\" (роман складається з більше ніж 50,000 слів), яка є найбільш вживаною літерою в англійській мові.\n",
    "\n",
    "Порахуйте кількість входжень кожної літери у текст роману. Виведіть список літер англійського алфавіту, а також інформацію про те, скільки відсотків від усіх літер тексту складає кожна літера алфавіту.\n",
    "\n",
    "Зауваження:\n",
    "\n",
    "1. Програма має ігнорувати будь-які символи, окрім літер.\n",
    "\n",
    "2. Переведіть усі літери у верхній або у нижній регістр.\n",
    "\n",
    "3. Під час виведення відсортуйте літери у порядку зменшення їхнього відсотка. Літера \"e\" має стояти на останньому місці у цьому списку (хоча кілька літер e там все ж таки зустрічається).\n",
    "\n",
    "4. Виведіть перші 5 та останні 5 літер відсортованого списку разом з відсотковими значеннями, що їм відповідають. Відсотки округліть до тисячних."
   ]
  },
  {
   "cell_type": "code",
   "execution_count": 1,
   "metadata": {},
   "outputs": [
    {
     "name": "stdout",
     "output_type": "stream",
     "text": [
      "5 найбільш уживаних літер в романі:\n",
      "\t\"A\" - 10.952%\n",
      "\t\"O\" - 10.419%\n",
      "\t\"I\" - 8.825%\n",
      "\t\"N\" - 8.597%\n",
      "\t\"T\" - 8.494%\n",
      "5 найменш уживаних літер в романі:\n",
      "\t\"J\" - 0.230%\n",
      "\t\"Z\" - 0.107%\n",
      "\t\"X\" - 0.079%\n",
      "\t\"Q\" - 0.051%\n",
      "\t\"E\" - 0.002%\n"
     ]
    }
   ],
   "source": [
    "from functools import reduce\n",
    "\n",
    "dict_letter = {ch: 0 for ch in 'ABCDEFGHIJKLMNOPRQSTUVWXYZ'}\n",
    "\n",
    "with open('gadsby.txt', 'r') as f:\n",
    "    for line in f:\n",
    "        for ch in line:\n",
    "            if ch.isalpha():\n",
    "                dict_letter[ch.upper()] += 1\n",
    "                \n",
    "letter_qnt = reduce(lambda total, x: total + x[1], dict_letter.items(), 0)\n",
    "letter_freq = sorted(dict_letter.items(), key = lambda x : -x[1])\n",
    "letter_freq = [(x[0], x[1] * 100 / letter_qnt) for x in letter_freq]\n",
    "\n",
    "print('5 найбільш уживаних літер в романі:')\n",
    "for i in range(5):\n",
    "    print(f'\\t\"{letter_freq[i][0]}\" - {letter_freq[i][1] :.3f}%')\n",
    "    \n",
    "print('5 найменш уживаних літер в романі:')\n",
    "for i in range(5):\n",
    "    print(f'\\t\"{letter_freq[i-5][0]}\" - {letter_freq[i-5][1] :.3f}%')"
   ]
  },
  {
   "cell_type": "markdown",
   "metadata": {
    "id": "A34oz70eU463"
   },
   "source": [
    "### **Завдання 2 (1,5 бали)**\n",
    "\n",
    "Архів archive.zip містить 140 txt-файлів, в яких збережено інформaцію про те, якими іменами називали дітей у США в період з 1880 по 2019 рік.\n",
    "\n",
    "Структура рядка кожного файлу така:\n",
    "\n",
    "*name,sex,number_of_occurrences*\n",
    "\n",
    "Напишіть програму, яка зчитуватиме кожен файл та визначатиме найпопулярніші чоловічі та жіночі умена за кожен рік. Далі програма повинна підраховувати, скільки разів кожне з цих імен ставало найпопулярнишим, та виводити відсортовані списки чоловічих та жіночих імен у вигляді:\n",
    "\n",
    "```\n",
    "Males:\n",
    "Michael 44\n",
    "John 44\n",
    "Robert 17\n",
    "...\n",
    "Antony 1\n",
    "\n",
    "Females:\n",
    "Mary 76\n",
    "Jennifer 15\n",
    "Emily 12\n",
    "...\n",
    "Josephine 1\n",
    "```"
   ]
  },
  {
   "cell_type": "code",
   "execution_count": 5,
   "metadata": {},
   "outputs": [
    {
     "name": "stdout",
     "output_type": "stream",
     "text": [
      "Males:\n",
      "John 44\n",
      "Michael 44\n",
      "Robert 17\n",
      "Jacob 14\n",
      "James 13\n",
      "Noah 4\n",
      "Liam 3\n",
      "David 1\n",
      "\n",
      "Females:\n",
      "Mary 76\n",
      "Jennifer 15\n",
      "Emily 12\n",
      "Jessica 9\n",
      "Lisa 8\n",
      "Linda 6\n",
      "Emma 6\n",
      "Sophia 3\n",
      "Ashley 2\n",
      "Isabella 2\n",
      "Olivia 1\n"
     ]
    }
   ],
   "source": [
    "import os\n",
    "\n",
    "def popular_names(file_path):\n",
    "    dict_sex = {sex: {'maxnmb': -1, 'name': ''} for sex in 'FM'}\n",
    "    with open(file_path, 'r') as f:\n",
    "        for line in f:\n",
    "            name, sex, nmb = line.split(',')\n",
    "            nmb = int(nmb)\n",
    "            if nmb > dict_sex[sex]['maxnmb']:\n",
    "                dict_sex[sex]['maxnmb'] = nmb\n",
    "                dict_sex[sex]['name'] = name\n",
    "#         print(f\"{file_path[-8:-4]}: {dict_sex['F']['name']} ({dict_sex['F']['maxnmb']}), {dict_sex['M']['name']} ({dict_sex['M']['maxnmb']})\")\n",
    "    return dict_sex['F']['name'], dict_sex['M']['name']\n",
    "\n",
    "dict_stats = {'F': {}, 'M': {}}\n",
    "    \n",
    "for fname in os.listdir('archive'):\n",
    "    if fname[:3] != 'yob':\n",
    "        continue\n",
    "        \n",
    "    female_name, male_name = popular_names(f'archive/{fname}')\n",
    "    \n",
    "    if female_name in dict_stats['F']:\n",
    "        dict_stats['F'][female_name] += 1\n",
    "    else:\n",
    "        dict_stats['F'][female_name] = 1\n",
    "        \n",
    "    if male_name in dict_stats['M']:\n",
    "        dict_stats['M'][male_name] += 1\n",
    "    else:\n",
    "        dict_stats['M'][male_name] = 1\n",
    "        \n",
    "print('Males:')\n",
    "name_stats = sorted(dict_stats['M'].items(), key = lambda x : -x[1])\n",
    "for name, nmb in name_stats:\n",
    "    print(name, nmb)\n",
    "\n",
    "print('\\nFemales:')\n",
    "name_stats = sorted(dict_stats['F'].items(), key = lambda x : -x[1])\n",
    "for name, nmb in name_stats:\n",
    "    print(name, nmb)"
   ]
  },
  {
   "cell_type": "code",
   "execution_count": null,
   "metadata": {},
   "outputs": [],
   "source": []
  }
 ],
 "metadata": {
  "colab": {
   "collapsed_sections": [],
   "name": "Practice_14_KM_01.ipynb",
   "provenance": []
  },
  "kernelspec": {
   "display_name": "Python 3 (ipykernel)",
   "language": "python",
   "name": "python3"
  },
  "language_info": {
   "codemirror_mode": {
    "name": "ipython",
    "version": 3
   },
   "file_extension": ".py",
   "mimetype": "text/x-python",
   "name": "python",
   "nbconvert_exporter": "python",
   "pygments_lexer": "ipython3",
   "version": "3.8.11"
  }
 },
 "nbformat": 4,
 "nbformat_minor": 4
}
